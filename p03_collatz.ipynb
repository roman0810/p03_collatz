{
 "cells": [
  {
   "cell_type": "code",
   "execution_count": null,
   "metadata": {},
   "outputs": [],
   "source": [
    "i = 1\n",
    "con = [False]*9999999\n",
    "con[0] = True\n",
    "con[1] = True\n",
    "\n",
    "while i < 100000:\n",
    "    i += 1\n",
    "    a = i\n",
    "    din = []\n",
    "    while con[a] != True:\n",
    "        din.append(a)\n",
    "        if a%2 == 0:\n",
    "            a = a//2\n",
    "        else:\n",
    "            a = 3*a + 1     \n",
    "    for el in din:\n",
    "        con[el] = True\n",
    "\n",
    "flag = True\n",
    "for i in range(100000):\n",
    "\tif con[i] == False:\n",
    "\t\tflag = False\n",
    "\t\tprint(\"it didnt work!\")\n",
    "\t\tbreak\n",
    "if flag:\n",
    "\tprint(\"it worked!\")\n",
    "            \n",
    "        \n",
    "        \n",
    "                \n"
   ]
  },
  {
   "cell_type": "code",
   "execution_count": null,
   "metadata": {},
   "outputs": [],
   "source": [
    "создадим большой массив, где будем помечать, какие числа прошли проверку, а какие нет. \n",
    "Пополняя его, не придётся для каждого случая сводить число к 1.\n",
    "Если хотя бы 1 элемент массива con равен 0, то гипотеза не выполненна."
   ]
  },
  {
   "cell_type": "code",
   "execution_count": null,
   "metadata": {},
   "outputs": [],
   "source": []
  }
 ],
 "metadata": {
  "kernelspec": {
   "display_name": "Python 3",
   "language": "python",
   "name": "python3"
  },
  "language_info": {
   "codemirror_mode": {
    "name": "ipython",
    "version": 3
   },
   "file_extension": ".py",
   "mimetype": "text/x-python",
   "name": "python",
   "nbconvert_exporter": "python",
   "pygments_lexer": "ipython3",
   "version": "3.8.3"
  }
 },
 "nbformat": 4,
 "nbformat_minor": 4
}
